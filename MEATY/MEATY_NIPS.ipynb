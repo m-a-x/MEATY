{
 "cells": [
  {
   "cell_type": "markdown",
   "metadata": {},
   "source": [
    "# N.I.P.S.\n",
    "Notebook Interface for Post Scraping"
   ]
  },
  {
   "cell_type": "code",
   "execution_count": 9,
   "metadata": {
    "ExecuteTime": {
     "end_time": "2017-12-02T01:48:57.911535Z",
     "start_time": "2017-12-02T01:48:57.908285Z"
    },
    "init_cell": true
   },
   "outputs": [],
   "source": [
    "from MEATY_backend import *\n",
    "from selenium import webdriver\n",
    "from selenium.webdriver.common.keys import Keys\n",
    "import time\n",
    "import pandas as pd\n",
    "import numpy as np"
   ]
  },
  {
   "cell_type": "code",
   "execution_count": 10,
   "metadata": {
    "ExecuteTime": {
     "end_time": "2017-12-02T01:48:57.981490Z",
     "start_time": "2017-12-02T01:48:57.913253Z"
    },
    "init_cell": true
   },
   "outputs": [],
   "source": [
    "def scrape_memes(start_url=None, fb_email_or_phone=None, fb_pass=None,\n",
    "                 group_name='noname', time_direction='forward',\n",
    "                 path_to_chromedriver=None):\n",
    "    meme_data = []\n",
    "    if not path_to_chromedriver:\n",
    "        path_to_chromedriver = os.path.abspath('chromedriver')\n",
    "    group_folder = '../' + group_name\n",
    "    make_nested_folders({group_folder: ['imgs', 'html-posts', 'html-reacts']})\n",
    "    fn = group_folder + '/temp_memedata_' + time_direction + '.csv'\n",
    "    already_started_scrape = os.path.exists(fn)\n",
    "    if already_started_scrape:\n",
    "        df = pd.read_csv(fn)\n",
    "        start_url = df['url'].iloc[-1]\n",
    "    browser = login_to_fb(start_url, fb_email_or_phone,\n",
    "                          fb_pass, path_to_chromedriver)\n",
    "    time.sleep(3)\n",
    "    browser.get(start_url)\n",
    "    time.sleep(2)\n",
    "    next_post_button = find_next_button(browser, time_direction)\n",
    "    if already_started_scrape:\n",
    "        next_post_button.click()\n",
    "        time.sleep(.2)\n",
    "        next_post_button = find_next_button(browser, time_direction)\n",
    "    i = 0\n",
    "    while True:\n",
    "        i += 1\n",
    "        try:\n",
    "            last_url = process_meme(browser, meme_data, group_folder=group_folder,\n",
    "                                    time_direction=time_direction)\n",
    "            if not last_url:\n",
    "                return browser\n",
    "            print('=' * 8, i, '=' * 8)\n",
    "            print('\\n'.join([str(s) for s in meme_data[-1].items()]))\n",
    "            next_post_button.click()\n",
    "        except Exception as e:\n",
    "            print('1 -- ERROR -- 1:  ', e)\n",
    "            try:\n",
    "                time.sleep(.2)\n",
    "                tabs = browser.window_handles\n",
    "                while len(tabs) > 1:\n",
    "                    i = len(tabs) - 1\n",
    "                    tabs[i].close()\n",
    "                browser = switch_tabs(browser, 0)\n",
    "                next_post_button = find_next_button(browser, time_direction)\n",
    "                browser.get(last_url)\n",
    "                last_url = process_meme(browser, meme_data, group_folder=group_folder,\n",
    "                                        time_direction=time_direction)\n",
    "                if not last_url:\n",
    "                    return browser\n",
    "                next_post_button.click()\n",
    "            except Exception as e:\n",
    "                print('2 -- ERROR --2:  ', e)\n",
    "                return browser"
   ]
  },
  {
   "cell_type": "code",
   "execution_count": 11,
   "metadata": {
    "ExecuteTime": {
     "end_time": "2017-12-02T01:48:58.024359Z",
     "start_time": "2017-12-02T01:48:57.982598Z"
    },
    "init_cell": true
   },
   "outputs": [],
   "source": [
    "def process_reacts(browser):\n",
    "    \"\"\"Make album/loop detection/bugfix\"\"\"\n",
    "    reacts = browser.find_elements_by_class_name(' _ipp')\n",
    "    post_reacts = {'Like': 0,\n",
    "                   'Love': 0,\n",
    "                   'Haha': 0,\n",
    "                   'Wow': 0,\n",
    "                   'Sad': 0,\n",
    "                   'Angry': 0,\n",
    "                   'Pride': 0,\n",
    "                   'Thankful': 0}\n",
    "    if reacts == []:\n",
    "        num_reacts = 0\n",
    "        return num_reacts, post_reacts, None\n",
    "    reacts_element = reacts[0].find_element_by_class_name('_2x4v')\n",
    "    reacts_url = reacts_element.get_attribute('href')\n",
    "    reacts_element.send_keys(Keys.ENTER)  # click()\n",
    "    tab_post_reacts = browser.find_elements_by_class_name('_21ab')\n",
    "    while tab_post_reacts == []:\n",
    "        time.sleep(.2)\n",
    "        tab_post_reacts = browser.find_elements_by_class_name('_21ab')\n",
    "    tab_post_reacts = tab_post_reacts[0].find_elements_by_class_name('_3m1v')\n",
    "    for react_type in tab_post_reacts:\n",
    "        react_tab = react_type.find_elements_by_tag_name('span')[1]\n",
    "        react_hovertext = react_tab.get_attribute('aria-label')\n",
    "        text_split = react_hovertext.split()\n",
    "        if 'reacted with' in react_hovertext:\n",
    "            count_react, react_type = text_split[0], text_split[-1]\n",
    "        elif 'reacted to this post' in react_hovertext:\n",
    "            count_react, react_type = text_split[0], 'num_reacts'\n",
    "        if 'K' in count_react:\n",
    "            try:\n",
    "                count_react = int(float(count_react.replace('K', '')) * 1000)\n",
    "            except:\n",
    "                pass\n",
    "        else:\n",
    "            count_react = int(count_react)\n",
    "        if react_type != 'num_reacts':\n",
    "            post_reacts[react_type] = count_react\n",
    "        else:\n",
    "            num_reacts = count_react\n",
    "    if len(tab_post_reacts) == 1:\n",
    "        num_reacts = post_reacts[list(post_reacts.keys())[0]]\n",
    "    return num_reacts, post_reacts, reacts_url"
   ]
  },
  {
   "cell_type": "code",
   "execution_count": 12,
   "metadata": {
    "ExecuteTime": {
     "end_time": "2017-12-02T01:48:58.074004Z",
     "start_time": "2017-12-02T01:48:58.025908Z"
    },
    "init_cell": true
   },
   "outputs": [],
   "source": [
    "def process_meme(browser, meme_data, group_folder, time_direction):\n",
    "    puid = generate_puid(12)\n",
    "    carousel_url = browser.current_url\n",
    "    browser.execute_script(\"window.open('\" + carousel_url + \"', 'new_window')\")\n",
    "    browser = switch_tabs(browser, 1)\n",
    "    post_time = process_timestamp(browser)\n",
    "    poster_name = process_poster_name(browser)\n",
    "    download_img(browser, puid, group_folder)\n",
    "    escape_popup(browser)\n",
    "    download_html(browser, puid, 'posts', group_folder)\n",
    "    price = process_price(browser)\n",
    "    post_title = process_title(browser)\n",
    "    caption = process_caption(browser)\n",
    "    num_reacts, post_reacts, reacts_url = process_reacts(browser)\n",
    "    download_html(browser, puid, 'reacts', group_folder)\n",
    "    browser.close()\n",
    "    browser = switch_tabs(browser, 0)\n",
    "    meme_data.append({\n",
    "        'num_reacts': num_reacts,\n",
    "        'likes': post_reacts['Like'],\n",
    "        'loves': post_reacts['Love'],\n",
    "        'hahas': post_reacts['Haha'],\n",
    "        'wows': post_reacts['Wow'],\n",
    "        'sads': post_reacts['Sad'],\n",
    "        'angrys': post_reacts['Angry'],\n",
    "        'thankfuls': post_reacts['Thankful'],\n",
    "        'prides': post_reacts['Pride'],\n",
    "        'title': post_title,\n",
    "        'caption': caption,\n",
    "        'price': price,\n",
    "        'post_time': post_time,\n",
    "        'poster_name': poster_name,\n",
    "        'url': carousel_url,\n",
    "        'reacts_url': reacts_url,\n",
    "        'id': puid\n",
    "    })\n",
    "    temp_df = pd.DataFrame(meme_data[-1:])\n",
    "    other_time_direction = list(\n",
    "        set(['forward', 'backward']) - set([time_direction]))[0]\n",
    "    other_time_data_path = group_folder + \\\n",
    "        '/temp_memedata_' + other_time_direction + '.csv'\n",
    "    if os.path.exists(other_time_data_path):\n",
    "        other_df = pd.read_csv(other_time_data_path)\n",
    "        if meme_data[-1]['post_time'] in other_df['post_time'].values[-1:]  \\\n",
    "                and other_df.shape[0] > 5  \\\n",
    "                and poster_name in other_df['poster_name'].values[-1:]  \\\n",
    "                and num_reacts in other_df['num_reacts'].values[-1]:\n",
    "            print('DONE')\n",
    "            return False\n",
    "        elif poster_name == meme_data[0]['poster_name']  \\\n",
    "                and post_time == meme_data[0]['post_time']:\n",
    "            print('DONE')\n",
    "            return False\n",
    "    fn = group_folder + '/temp_memedata_' + time_direction + '.csv'\n",
    "    save_meme_scrape(temp_df, fn)\n",
    "    return carousel_url"
   ]
  },
  {
   "cell_type": "markdown",
   "metadata": {},
   "source": [
    "### The first input of scrape_memes is the photo (as accessed by the group sidebar) url. Does not need to be correct if scrape already started; will pick up where left off.\n",
    "#### Scrape is best run across two terminals running separate jupyter notebooks with one going 'forward' in time and one going 'backward'. \n",
    "  - to achieve this, open 2 terminals and type jupyter notebook on each\n",
    "  - duplicate MEATY.ipynb and change one of their time_direction args so one is 'forward' and the other 'backward'\n",
    "  - may crash after some time, restart and run kernel is safe\n",
    "  \n",
    "#### Scrape _should_ stop automatically once it loops on itself (approx) or when it overlaps with the opposite time_direction"
   ]
  },
  {
   "cell_type": "code",
   "execution_count": null,
   "metadata": {
    "scrolled": true
   },
   "outputs": [],
   "source": [
    "browser, meme_data = scrape_memes('https://www.facebook.com/photo.php?fbid=1506285966134413&set=g.1006815496091821&type=1&theater&ifg=1',\n",
    "                                  group_name='columbia', time_direction='backward')"
   ]
  }
 ],
 "metadata": {
  "celltoolbar": "Initialization Cell",
  "hide_input": false,
  "kernelspec": {
   "display_name": "Python 3",
   "language": "python",
   "name": "python3"
  },
  "language_info": {
   "codemirror_mode": {
    "name": "ipython",
    "version": 3
   },
   "file_extension": ".py",
   "mimetype": "text/x-python",
   "name": "python",
   "nbconvert_exporter": "python",
   "pygments_lexer": "ipython3",
   "version": "3.4.3"
  }
 },
 "nbformat": 4,
 "nbformat_minor": 2
}
