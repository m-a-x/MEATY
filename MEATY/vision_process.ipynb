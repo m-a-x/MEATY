{
 "cells": [
  {
   "cell_type": "code",
   "execution_count": 2,
   "metadata": {
    "ExecuteTime": {
     "end_time": "2017-12-15T04:51:48.083134Z",
     "start_time": "2017-12-15T04:51:47.583129Z"
    }
   },
   "outputs": [],
   "source": [
    "import pickle\n",
    "import pandas as pd\n",
    "import numpy as np\n",
    "import psycopg2 as pg"
   ]
  },
  {
   "cell_type": "code",
   "execution_count": 3,
   "metadata": {
    "ExecuteTime": {
     "end_time": "2017-12-15T04:51:49.174104Z",
     "start_time": "2017-12-15T04:51:49.150103Z"
    }
   },
   "outputs": [],
   "source": [
    "def web_ent_to_label(web_ent_list):\n",
    "    if type(web_ent_list) is not list:\n",
    "        if type(web_ent_list) == float:\n",
    "            return ''\n",
    "        if web_ent_list is None:\n",
    "            return ''\n",
    "    web_label = \"\"\n",
    "    for entity in web_ent_list:\n",
    "        if 'description' in entity.keys():\n",
    "            web_label += entity['description'] + ' '\n",
    "\n",
    "    return web_label"
   ]
  },
  {
   "cell_type": "code",
   "execution_count": 4,
   "metadata": {
    "ExecuteTime": {
     "end_time": "2017-12-15T04:51:49.491072Z",
     "start_time": "2017-12-15T04:51:49.398072Z"
    }
   },
   "outputs": [],
   "source": [
    "def img_match_to_keywords(img_match_list):\n",
    "    if type(img_match_list) is not list:\n",
    "        if type(img_match_list) == float:\n",
    "            return ''\n",
    "        if img_match_list is None:\n",
    "            return ''\n",
    "    keywords = \"\"\n",
    "    for match in img_match_list:\n",
    "        url = match['url']\n",
    "        if url[-1] == '/':\n",
    "            url = url[:-1]\n",
    "        kws = url.split('/')[-1]\n",
    "        h_kws = kws.count('-')\n",
    "        u_kws = kws.count('_')\n",
    "        if u_kws > h_kws:\n",
    "            spl = kws.split('_')\n",
    "            for unigram in spl:\n",
    "                try:\n",
    "                    int(unigram)\n",
    "                except:\n",
    "                    if len(unigram) < 12:\n",
    "                        keywords += unigram + ' '\n",
    "        elif u_kws == 0 and h_kws == 0:\n",
    "            continue\n",
    "        elif  h_kws >= u_kws:\n",
    "            spl = kws.split('-')\n",
    "            for unigram in spl:\n",
    "                try:\n",
    "                    int(unigram)\n",
    "                except:\n",
    "                    keywords += unigram + ' '\n",
    "    return keywords"
   ]
  },
  {
   "cell_type": "code",
   "execution_count": 5,
   "metadata": {
    "ExecuteTime": {
     "end_time": "2017-12-15T04:51:49.738073Z",
     "start_time": "2017-12-15T04:51:49.722073Z"
    }
   },
   "outputs": [],
   "source": [
    "def img_match_to_num(img_match_list):\n",
    "    if type(img_match_list) is not list:\n",
    "        return 0\n",
    "    return len(img_match_list)"
   ]
  },
  {
   "cell_type": "code",
   "execution_count": 6,
   "metadata": {
    "ExecuteTime": {
     "end_time": "2017-12-15T04:51:50.395044Z",
     "start_time": "2017-12-15T04:51:50.358044Z"
    }
   },
   "outputs": [],
   "source": [
    "def get_data(table_name='group_members'):\n",
    "    db = pg.connect(dbname='postgres', host='35.196.103.17',\n",
    "                    user='postgres', password='meaty')\n",
    "    cur = db.cursor()\n",
    "    query = \"SELECT * FROM \" + table_name + \";\"\n",
    "    cur.execute(query)\n",
    "    if table_name == 'group_members':\n",
    "        col_names = ['affil', 'fb_name',\n",
    "                     'date_added', 'school', 'approver_name']\n",
    "    else:\n",
    "        col_names = ['id', 'school', 'poster_name', 'post_time', 'title', 'caption', 'price',\n",
    "                     'num_reacts', 'angrys', 'hahas', 'likes', 'loves', 'prides', 'sads',\n",
    "                     'thankfuls', 'wows', 'reacts_url', 'url', 'post_date', 'post_hour',\n",
    "                     'img_hash', 'school_name_id']\n",
    "    df = pd.DataFrame(cur.fetchall(), columns=col_names)\n",
    "    return df"
   ]
  },
  {
   "cell_type": "code",
   "execution_count": 17,
   "metadata": {
    "ExecuteTime": {
     "end_time": "2017-12-15T04:54:28.147762Z",
     "start_time": "2017-12-15T04:54:27.378759Z"
    }
   },
   "outputs": [
    {
     "name": "stderr",
     "output_type": "stream",
     "text": [
      "c:\\program files\\python36\\lib\\site-packages\\pandas\\core\\indexing.py:194: SettingWithCopyWarning: \n",
      "A value is trying to be set on a copy of a slice from a DataFrame\n",
      "\n",
      "See the caveats in the documentation: http://pandas.pydata.org/pandas-docs/stable/indexing.html#indexing-view-versus-copy\n",
      "  self._setitem_with_indexer(indexer, value)\n"
     ]
    }
   ],
   "source": [
    "post_df = get_data('posts')\n",
    "post_df.set_index('id', inplace=True)\n",
    "for col in ['title', 'caption']:\n",
    "    post_df[col].loc[post_df[col].isnull()] = ''\n"
   ]
  },
  {
   "cell_type": "code",
   "execution_count": null,
   "metadata": {},
   "outputs": [],
   "source": [
    "res = pickle.load(open('api-batches.pkl', 'rb'))"
   ]
  },
  {
   "cell_type": "code",
   "execution_count": 18,
   "metadata": {
    "ExecuteTime": {
     "end_time": "2017-12-15T04:54:34.742533Z",
     "start_time": "2017-12-15T04:54:32.592601Z"
    }
   },
   "outputs": [],
   "source": [
    "df = pd.DataFrame(res).T\n",
    "df.index.rename('post_id', inplace=True)\n",
    "df.text = df.text.str.replace('\\n', ' ')"
   ]
  },
  {
   "cell_type": "code",
   "execution_count": 19,
   "metadata": {
    "ExecuteTime": {
     "end_time": "2017-12-15T04:54:34.859534Z",
     "start_time": "2017-12-15T04:54:34.745537Z"
    }
   },
   "outputs": [],
   "source": [
    "df['web_labels'] = df['web_entities'].apply(web_ent_to_label)\n",
    "df.drop('web_entities', axis=1, inplace=True)"
   ]
  },
  {
   "cell_type": "code",
   "execution_count": 20,
   "metadata": {
    "ExecuteTime": {
     "end_time": "2017-12-15T04:54:36.358468Z",
     "start_time": "2017-12-15T04:54:34.863536Z"
    }
   },
   "outputs": [],
   "source": [
    "df['num_similar_imgs'] = df['img_match'].apply(img_match_to_num)\n",
    "df['url_keywords'] = df['img_match'].apply(img_match_to_keywords)\n",
    "df.drop('img_match', axis=1, inplace=True)"
   ]
  },
  {
   "cell_type": "code",
   "execution_count": 21,
   "metadata": {
    "ExecuteTime": {
     "end_time": "2017-12-15T04:54:36.368471Z",
     "start_time": "2017-12-15T04:54:36.361471Z"
    }
   },
   "outputs": [],
   "source": [
    "df.columns = ['v_' + gvis_column for gvis_column in df.columns]"
   ]
  },
  {
   "cell_type": "code",
   "execution_count": 22,
   "metadata": {
    "ExecuteTime": {
     "end_time": "2017-12-15T04:54:38.934407Z",
     "start_time": "2017-12-15T04:54:37.981440Z"
    }
   },
   "outputs": [
    {
     "name": "stderr",
     "output_type": "stream",
     "text": [
      "c:\\program files\\python36\\lib\\site-packages\\ipykernel_launcher.py:1: SettingWithCopyWarning: \n",
      "A value is trying to be set on a copy of a slice from a DataFrame\n",
      "\n",
      "See the caveats in the documentation: http://pandas.pydata.org/pandas-docs/stable/indexing.html#indexing-view-versus-copy\n",
      "  \"\"\"Entry point for launching an IPython kernel.\n",
      "c:\\program files\\python36\\lib\\site-packages\\pandas\\core\\indexing.py:194: SettingWithCopyWarning: \n",
      "A value is trying to be set on a copy of a slice from a DataFrame\n",
      "\n",
      "See the caveats in the documentation: http://pandas.pydata.org/pandas-docs/stable/indexing.html#indexing-view-versus-copy\n",
      "  self._setitem_with_indexer(indexer, value)\n"
     ]
    }
   ],
   "source": [
    "df.v_num_similar_imgs[df.v_num_similar_imgs.isnull()] = 0\n",
    "df.v_num_similar_imgs = df.v_num_similar_imgs.astype(int)\n",
    "\n",
    "for col in ['v_text', 'v_labels', 'v_logos', 'v_web_labels']:\n",
    "    df[col].loc[df[col].isnull()] = ''\n",
    "df.to_csv('vision-all-fmtd.csv', encoding='utf-8')"
   ]
  },
  {
   "cell_type": "code",
   "execution_count": 23,
   "metadata": {
    "ExecuteTime": {
     "end_time": "2017-12-15T04:54:40.008375Z",
     "start_time": "2017-12-15T04:54:39.928375Z"
    }
   },
   "outputs": [],
   "source": [
    "all_data_joined = post_df.join(df)"
   ]
  },
  {
   "cell_type": "code",
   "execution_count": 30,
   "metadata": {
    "ExecuteTime": {
     "end_time": "2017-12-15T04:57:45.383380Z",
     "start_time": "2017-12-15T04:57:45.189397Z"
    }
   },
   "outputs": [],
   "source": [
    "all_data_joined['all'] = all_data_joined['title'] + ' ' + \\\n",
    "    all_data_joined['caption'] + ' ' + all_data_joined['v_text'] + ' ' + all_data_joined['v_labels'] + \\\n",
    "    ' ' + all_data_joined['v_logos'] + ' ' + all_data_joined['v_web_labels']\n",
    "all_data_joined['all'] = all_data_joined['all'].str.lower()"
   ]
  },
  {
   "cell_type": "code",
   "execution_count": 31,
   "metadata": {
    "ExecuteTime": {
     "end_time": "2017-12-15T04:58:58.269030Z",
     "start_time": "2017-12-15T04:58:58.157066Z"
    }
   },
   "outputs": [
    {
     "data": {
      "text/plain": [
       "school\n",
       "brown         26\n",
       "columbia     103\n",
       "cornell       30\n",
       "dartmouth      4\n",
       "harvard        8\n",
       "penn          25\n",
       "princeton     16\n",
       "yale          11\n",
       "Name: caption, dtype: int64"
      ]
     },
     "execution_count": 31,
     "metadata": {},
     "output_type": "execute_result"
    }
   ],
   "source": [
    "q_df = all_data_joined[all_data_joined['all'].str.contains('stress', na=False)]\n",
    "q_counts = q_df.groupby('school').count()['caption']\n",
    "q_counts"
   ]
  },
  {
   "cell_type": "code",
   "execution_count": 33,
   "metadata": {
    "ExecuteTime": {
     "end_time": "2017-12-15T05:00:40.167277Z",
     "start_time": "2017-12-15T05:00:40.101275Z"
    }
   },
   "outputs": [
    {
     "data": {
      "text/plain": [
       "school\n",
       "brown         17\n",
       "columbia      36\n",
       "cornell       91\n",
       "dartmouth      5\n",
       "harvard      587\n",
       "penn          27\n",
       "princeton     37\n",
       "yale          75\n",
       "Name: caption, dtype: int64"
      ]
     },
     "execution_count": 33,
     "metadata": {},
     "output_type": "execute_result"
    }
   ],
   "source": [
    "q_df = all_data_joined[all_data_joined['all'].str.contains('harvard', na=Falselse)]\n",
    "q_counts = q_df.groupby('school').count()['caption']\n",
    "q_counts"
   ]
  },
  {
   "cell_type": "code",
   "execution_count": null,
   "metadata": {},
   "outputs": [],
   "source": []
  }
 ],
 "metadata": {
  "kernelspec": {
   "display_name": "Python 3",
   "language": "python",
   "name": "python3"
  },
  "language_info": {
   "codemirror_mode": {
    "name": "ipython",
    "version": 3
   },
   "file_extension": ".py",
   "mimetype": "text/x-python",
   "name": "python",
   "nbconvert_exporter": "python",
   "pygments_lexer": "ipython3",
   "version": "3.6.3"
  }
 },
 "nbformat": 4,
 "nbformat_minor": 2
}
